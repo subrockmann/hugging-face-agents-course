{
  "cells": [
    {
      "cell_type": "markdown",
      "metadata": {
        "id": "IWO0f19QWrYt"
      },
      "source": [
        "# Alfred the Mail Sorting Butler: A LangGraph Example\n",
        "\n",
        "In this notebook, **we're going to build a complete email processing workflow using LangGraph**.\n",
        "\n",
        "This notebook is part of the <a href=\"https://www.hf.co/learn/agents-course\">Hugging Face Agents Course</a>, a free course from beginner to expert, where you learn to build Agents.\n",
        "\n",
        "![Agents course share](https://huggingface.co/datasets/agents-course/course-images/resolve/main/en/communication/share.png)\n",
        "\n",
        "## What You'll Learn\n",
        "\n",
        "In this notebook, you'll learn how to:\n",
        "1. Set up a LangGraph workflow\n",
        "2. Define state and nodes for email processing\n",
        "3. Create conditional branching in a graph\n",
        "4. Connect an LLM for classification and content generation\n",
        "5. Visualize the workflow graph\n",
        "6. Execute the workflow with example data"
      ]
    },
    {
      "cell_type": "code",
      "execution_count": 4,
      "metadata": {
        "id": "CtlNRVSgWrYw",
        "outputId": "94d4f632-b4d4-4fb4-b7ed-61e186f8837c"
      },
      "outputs": [],
      "source": [
        "# Install the required packages\n",
        "# %pip install -q langgraph langchain_openai langchain_huggingface"
      ]
    },
    {
      "cell_type": "markdown",
      "metadata": {
        "id": "ct7taUwOWrYy"
      },
      "source": [
        "## Setting Up Our Environment\n",
        "\n",
        "First, let's import all the necessary libraries. LangGraph provides the graph structure, while LangChain offers convenient interfaces for working with LLMs."
      ]
    },
    {
      "cell_type": "code",
      "execution_count": 5,
      "metadata": {},
      "outputs": [],
      "source": [
        "# load api keys from .env file\n",
        "import os   \n",
        "from dotenv import load_dotenv\n",
        "from typing import TypedDict, List, Dict, Any, Optional\n",
        "from langgraph.graph import StateGraph, START, END\n",
        "# from langchain_openai import ChatOpenAI\n",
        "from langchain_groq import ChatGroq\n",
        "# from langchain_huggingface import HuggingFaceHub, ChatHuggingFace, HuggingFaceEndpoint\n",
        "from langchain_core.messages import HumanMessage, AIMessage\n",
        "from langfuse.callback import CallbackHandler\n",
        "from IPython.display import Image, display"
      ]
    },
    {
      "cell_type": "code",
      "execution_count": 28,
      "metadata": {},
      "outputs": [],
      "source": [
        "load_dotenv()               \n",
        "os.environ[\"OPENAI_API_KEY\"] = os.getenv(\"OPENAI_API_KEY\")\n",
        "# os.environ[\"HUGGINGFACEHUB_API_TOKEN\"] = os.getenv(\"HUGGINGFACEHUB_API_TOKEN\")\n",
        "os.environ[\"GROQ_API_KEY\"] = os.getenv(\"GROQ_API_KEY\")\n",
        "\n",
        "# Get keys for your project from the project settings page: https://cloud.langfuse.com\n",
        "os.environ[\"LANGFUSE_PUBLIC_KEY\"] = \"pk-lf-...\"\n",
        "os.environ[\"LANGFUSE_SECRET_KEY\"] = \"sk-lf-...\"\n",
        "os.environ[\"LANGFUSE_HOST\"] = \"https://cloud.langfuse.com\"  # 🇪🇺 EU region\n",
        "# os.environ[\"LANGFUSE_HOST\"] = \"https://us.cloud.langfuse.com\" # 🇺🇸 US region"
      ]
    },
    {
      "cell_type": "code",
      "execution_count": 29,
      "metadata": {
        "id": "TdVstyEbWrYy"
      },
      "outputs": [],
      "source": [
        "# Initialize our LLM\n",
        "# model = ChatOpenAI(model=\"gpt-4o\", temperature=0)\n",
        "model = ChatGroq(\n",
        "    model=\"llama-3.1-8b-instant\",\n",
        "    temperature=0,\n",
        "    max_tokens=None,\n",
        "    timeout=None,\n",
        "    max_retries=2,\n",
        "    # other params...\n",
        ")"
      ]
    },
    {
      "cell_type": "markdown",
      "metadata": {
        "id": "Wrk8LT3nWrYz"
      },
      "source": [
        "## Step 1: Define Our State\n",
        "\n",
        "In LangGraph, **State** is the central concept. It represents all the information that flows through our workflow.\n",
        "\n",
        "For Alfred's email processing system, we need to track:\n",
        "- The email being processed\n",
        "- Whether it's spam or not\n",
        "- The draft response (for legitimate emails)\n",
        "- Conversation history with the LLM"
      ]
    },
    {
      "cell_type": "code",
      "execution_count": 30,
      "metadata": {
        "id": "rpNC5cwYWrYz"
      },
      "outputs": [],
      "source": [
        "class EmailState(TypedDict):\n",
        "    email: Dict[str, Any]\n",
        "    is_spam: Optional[bool]\n",
        "    spam_reason: Optional[str]\n",
        "    email_category: Optional[str]\n",
        "    draft_response: Optional[str]\n",
        "    messages: List[Dict[str, Any]]"
      ]
    },
    {
      "cell_type": "markdown",
      "metadata": {
        "id": "ZT_sX2wBWrYz"
      },
      "source": [
        "## Step 2: Define Our Nodes"
      ]
    },
    {
      "cell_type": "code",
      "execution_count": 31,
      "metadata": {
        "id": "Gh9qOFA1WrY0",
        "outputId": "71c5a5c2-f0e9-4319-a6ee-014d5009caa0"
      },
      "outputs": [],
      "source": [
        "class EmailState(TypedDict):\n",
        "    email: Dict[str, Any]\n",
        "    is_spam: Optional[bool]\n",
        "    draft_response: Optional[str]\n",
        "    messages: List[Dict[str, Any]]\n",
        "\n",
        "# Define nodes\n",
        "def read_email(state: EmailState):\n",
        "    email = state[\"email\"]\n",
        "    print(f\"Alfred is processing an email from {email['sender']} with subject: {email['subject']}\")\n",
        "    return {}\n",
        "\n",
        "def classify_email(state: EmailState):\n",
        "    email = state[\"email\"]\n",
        "\n",
        "    prompt = f\"\"\"\n",
        "As Alfred the butler of Mr wayne and it's SECRET identity Batman, analyze this email and determine if it is spam or legitimate and should be brought to Mr wayne's attention.\n",
        "\n",
        "Email:\n",
        "From: {email['sender']}\n",
        "Subject: {email['subject']}\n",
        "Body: {email['body']}\n",
        "\n",
        "First, determine if this email is spam.\n",
        "answer with SPAM or HAM if it's legitimate. Only reurn the answer\n",
        "Answer :\n",
        "    \"\"\"\n",
        "    messages = [HumanMessage(content=prompt)]\n",
        "    response = model.invoke(messages)\n",
        "\n",
        "    response_text = response.content.lower()\n",
        "    print(response_text)\n",
        "    is_spam = \"spam\" in response_text and \"ham\" not in response_text\n",
        "\n",
        "    if not is_spam:\n",
        "        new_messages = state.get(\"messages\", []) + [\n",
        "            {\"role\": \"user\", \"content\": prompt},\n",
        "            {\"role\": \"assistant\", \"content\": response.content}\n",
        "        ]\n",
        "    else :\n",
        "        new_messages = state.get(\"messages\", [])\n",
        "\n",
        "    return {\n",
        "        \"is_spam\": is_spam,\n",
        "        \"messages\": new_messages\n",
        "    }\n",
        "\n",
        "def handle_spam(state: EmailState):\n",
        "    print(f\"Alfred has marked the email as spam.\")\n",
        "    print(\"The email has been moved to the spam folder.\")\n",
        "    return {}\n",
        "\n",
        "def drafting_response(state: EmailState):\n",
        "    email = state[\"email\"]\n",
        "\n",
        "    prompt = f\"\"\"\n",
        "As Alfred the butler, draft a polite preliminary response to this email.\n",
        "\n",
        "Email:\n",
        "From: {email['sender']}\n",
        "Subject: {email['subject']}\n",
        "Body: {email['body']}\n",
        "\n",
        "Draft a brief, professional response that Mr. Wayne can review and personalize before sending.\n",
        "    \"\"\"\n",
        "\n",
        "    messages = [HumanMessage(content=prompt)]\n",
        "    response = model.invoke(messages)\n",
        "\n",
        "    new_messages = state.get(\"messages\", []) + [\n",
        "        {\"role\": \"user\", \"content\": prompt},\n",
        "        {\"role\": \"assistant\", \"content\": response.content}\n",
        "    ]\n",
        "\n",
        "    return {\n",
        "        \"draft_response\": response.content,\n",
        "        \"messages\": new_messages\n",
        "    }\n",
        "\n",
        "def notify_mr_wayne(state: EmailState):\n",
        "    email = state[\"email\"]\n",
        "\n",
        "    print(\"\\n\" + \"=\"*50)\n",
        "    print(f\"Sir, you've received an email from {email['sender']}.\")\n",
        "    print(f\"Subject: {email['subject']}\")\n",
        "    print(\"\\nI've prepared a draft response for your review:\")\n",
        "    print(\"-\"*50)\n",
        "    print(state[\"draft_response\"])\n",
        "    print(\"=\"*50 + \"\\n\")\n",
        "\n",
        "    return {}\n",
        "\n",
        "# Define routing logic\n",
        "def route_email(state: EmailState) -> str:\n",
        "    if state[\"is_spam\"]:\n",
        "        return \"spam\"\n",
        "    else:\n",
        "        return \"legitimate\""
      ]
    },
    {
      "cell_type": "code",
      "execution_count": 32,
      "metadata": {},
      "outputs": [
        {
          "data": {
            "text/plain": [
              "<langgraph.graph.state.StateGraph at 0x200c7a6ccd0>"
            ]
          },
          "execution_count": 32,
          "metadata": {},
          "output_type": "execute_result"
        }
      ],
      "source": [
        "# Create the graph\n",
        "email_graph = StateGraph(EmailState)\n",
        "\n",
        "# Add nodes\n",
        "email_graph.add_node(\"read_email\", read_email) # the read_email node executes the read_mail function\n",
        "email_graph.add_node(\"classify_email\", classify_email) # the classify_email node will execute the classify_email function\n",
        "email_graph.add_node(\"handle_spam\", handle_spam) #same logic\n",
        "email_graph.add_node(\"drafting_response\", drafting_response) #same logic\n",
        "email_graph.add_node(\"notify_mr_wayne\", notify_mr_wayne) # same logic"
      ]
    },
    {
      "cell_type": "markdown",
      "metadata": {
        "id": "k8WlJT57WrY1"
      },
      "source": [
        "## Step 3: Define Our Routing Logic"
      ]
    },
    {
      "cell_type": "code",
      "execution_count": 33,
      "metadata": {
        "id": "h_wSLZ6VWrY1",
        "outputId": "7786614a-87bb-4a60-8b75-e8375e95626c"
      },
      "outputs": [
        {
          "data": {
            "text/plain": [
              "<langgraph.graph.state.StateGraph at 0x200c7a6ccd0>"
            ]
          },
          "execution_count": 33,
          "metadata": {},
          "output_type": "execute_result"
        }
      ],
      "source": [
        "# Add edges\n",
        "email_graph.add_edge(START, \"read_email\") # After starting we go to the \"read_email\" node\n",
        "\n",
        "email_graph.add_edge(\"read_email\", \"classify_email\") # after_reading we classify\n",
        "\n",
        "# Add conditional edges\n",
        "email_graph.add_conditional_edges(\n",
        "    \"classify_email\", # after classify, we run the \"route_email\" function\"\n",
        "    route_email,\n",
        "    {\n",
        "        \"spam\": \"handle_spam\", # if it return \"Spam\", we go the \"handle_span\" node\n",
        "        \"legitimate\": \"drafting_response\" # and if it's legitimate, we go to the \"drafting response\" node\n",
        "    }\n",
        ")\n",
        "\n",
        "# Add final edges\n",
        "email_graph.add_edge(\"handle_spam\", END) # after handling spam we always end\n",
        "email_graph.add_edge(\"drafting_response\", \"notify_mr_wayne\")\n",
        "email_graph.add_edge(\"notify_mr_wayne\", END) # after notifyinf Me wayne, we can end  too"
      ]
    },
    {
      "cell_type": "markdown",
      "metadata": {
        "id": "7k9DSzndWrY1"
      },
      "source": [
        "## Step 4: Create the StateGraph and Define Edges"
      ]
    },
    {
      "cell_type": "code",
      "execution_count": 34,
      "metadata": {
        "id": "nQKJrH4WWrY1"
      },
      "outputs": [],
      "source": [
        "# Compile the graph\n",
        "compiled_graph = email_graph.compile()"
      ]
    },
    {
      "cell_type": "code",
      "execution_count": 35,
      "metadata": {
        "id": "pHIPXcrPWrY2",
        "outputId": "7fdcc46b-e0e8-435c-ba78-50ec580271e2"
      },
      "outputs": [
        {
          "data": {
            "image/png": "[encoded data removed]",
            "text/plain": [
              "<IPython.core.display.Image object>"
            ]
          },
          "metadata": {},
          "output_type": "display_data"
        }
      ],
      "source": [
        "display(Image(compiled_graph.get_graph().draw_mermaid_png()))"
      ]
    },
    {
      "cell_type": "code",
      "execution_count": 36,
      "metadata": {
        "id": "oTZK6WD-WrY2",
        "outputId": "82f5c8f0-708c-404c-87d5-72dff3542954"
      },
      "outputs": [
        {
          "name": "stdout",
          "output_type": "stream",
          "text": [
            "\n",
            "Processing legitimate email...\n",
            "Alfred is processing an email from Joker with subject: Found you Batman ! \n",
            "spam\n",
            "Alfred has marked the email as spam.\n",
            "The email has been moved to the spam folder.\n"
          ]
        }
      ],
      "source": [
        " # Example emails for testing\n",
        "legitimate_email = {\n",
        "    \"sender\": \"Joker\",\n",
        "    \"subject\": \"Found you Batman ! \",\n",
        "    \"body\": \"Mr. Wayne,I found your secret identity ! I know you're batman ! Ther's no denying it, I have proof of that and I'm coming to find you soon. I'll get my revenge. JOKER\"\n",
        "}\n",
        "\n",
        "spam_email = {\n",
        "    \"sender\": \"Crypto bro\",\n",
        "    \"subject\": \"The best investment of 2025\",\n",
        "    \"body\": \"Mr Wayne, I just launched an ALT coin and want you to buy some !\"\n",
        "}\n",
        "# Process legitimate email\n",
        "print(\"\\nProcessing legitimate email...\")\n",
        "legitimate_result = compiled_graph.invoke({\n",
        "    \"email\": legitimate_email,\n",
        "    \"is_spam\": None,\n",
        "    \"draft_response\": None,\n",
        "    \"messages\": []\n",
        "})"
      ]
    },
    {
      "cell_type": "code",
      "execution_count": 37,
      "metadata": {},
      "outputs": [
        {
          "name": "stdout",
          "output_type": "stream",
          "text": [
            "\n",
            "Processing spam email...\n",
            "Alfred is processing an email from Crypto bro with subject: The best investment of 2025\n",
            "spam\n",
            "Alfred has marked the email as spam.\n",
            "The email has been moved to the spam folder.\n"
          ]
        }
      ],
      "source": [
        "# Process spam email\n",
        "print(\"\\nProcessing spam email...\")\n",
        "spam_result = compiled_graph.invoke({\n",
        "    \"email\": spam_email,\n",
        "    \"is_spam\": None,\n",
        "    \"draft_response\": None,\n",
        "    \"messages\": []\n",
        "})"
      ]
    },
    {
      "cell_type": "markdown",
      "metadata": {},
      "source": [
        "# Using LangFuse for monitoring"
      ]
    },
    {
      "cell_type": "code",
      "execution_count": 38,
      "metadata": {
        "id": "BQZFZuC3WrY2"
      },
      "outputs": [
        {
          "name": "stdout",
          "output_type": "stream",
          "text": [
            "Alfred is processing an email from Joker with subject: Found you Batman ! \n",
            "spam\n",
            "Alfred has marked the email as spam.\n",
            "The email has been moved to the spam folder.\n"
          ]
        }
      ],
      "source": [
        "from langfuse.callback import CallbackHandler\n",
        "\n",
        "# Initialize Langfuse CallbackHandler for LangGraph/Langchain (tracing)\n",
        "langfuse_handler = CallbackHandler()\n",
        "\n",
        "# Process legitimate email\n",
        "legitimate_result = compiled_graph.invoke(\n",
        "    input={\n",
        "        \"email\": legitimate_email,\n",
        "        \"is_spam\": None,\n",
        "        \"spam_reason\": None,\n",
        "        \"email_category\": None,\n",
        "        \"draft_response\": None,\n",
        "        \"messages\": [],\n",
        "    },\n",
        "    config={\"callbacks\": [langfuse_handler]},\n",
        ")"
      ]
    },
    {
      "cell_type": "code",
      "execution_count": null,
      "metadata": {},
      "outputs": [],
      "source": []
    },
    {
      "cell_type": "code",
      "execution_count": null,
      "metadata": {},
      "outputs": [],
      "source": []
    }
  ],
  "metadata": {
    "colab": {
      "provenance": []
    },
    "kernelspec": {
      "display_name": "agent",
      "language": "python",
      "name": "python3"
    },
    "language_info": {
      "codemirror_mode": {
        "name": "ipython",
        "version": 3
      },
      "file_extension": ".py",
      "mimetype": "text/x-python",
      "name": "python",
      "nbconvert_exporter": "python",
      "pygments_lexer": "ipython3",
      "version": "3.11.12"
    }
  },
  "nbformat": 4,
  "nbformat_minor": 0
}
